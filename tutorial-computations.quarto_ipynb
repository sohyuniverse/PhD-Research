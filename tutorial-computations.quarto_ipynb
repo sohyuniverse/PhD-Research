{
  "cells": [
    {
      "cell_type": "markdown",
      "metadata": {},
      "source": [
        "---\n",
        "title: Quarto Computations\n",
        "format:\n",
        "  html:\n",
        "    code-fold: true\n",
        "jupyter: python3\n",
        "---\n",
        "\n",
        "\n",
        "\n",
        "\n",
        "[Quarto Computations](https://quarto.org/docs/get-started/computations/vscode.html)\n",
        "\n",
        "## NumPy\n"
      ],
      "id": "da4e7316"
    },
    {
      "cell_type": "code",
      "metadata": {},
      "source": [
        "import numpy as np\n",
        "a = np.arange(15).reshape(3, 5)\n",
        "a"
      ],
      "id": "0dd70305",
      "execution_count": null,
      "outputs": []
    },
    {
      "cell_type": "markdown",
      "metadata": {},
      "source": [
        "## Matplotlib\n"
      ],
      "id": "c1b6a748"
    },
    {
      "cell_type": "code",
      "metadata": {},
      "source": [
        "#| label: fig-limits\n",
        "#| fig-cap: Errorbar limit selector\n",
        "\n",
        "import matplotlib.pyplot as plt\n",
        "\n",
        "fig = plt.figure()\n",
        "# fig.set_size_inches(12, 7)\n",
        "x = np.arange(10)\n",
        "y = 2.5 * np.sin(x / 20 * np.pi)\n",
        "yerr = np.linspace(0.05, 0.2, 10)\n",
        "\n",
        "plt.errorbar(x, y + 3, yerr=yerr, label='both limits (default)')\n",
        "plt.errorbar(x, y + 2, yerr=yerr, uplims=True, label='uplims=True')\n",
        "plt.errorbar(x, y + 1, yerr=yerr, uplims=True, lolims=True,\n",
        "             label='uplims=True, lolims=True')\n",
        "\n",
        "upperlimits = [True, False] * 5\n",
        "lowerlimits = [False, True] * 5\n",
        "plt.errorbar(x, y, yerr=yerr, uplims=upperlimits, lolims=lowerlimits,\n",
        "             label='subsets of uplims and lolims')\n",
        "\n",
        "plt.legend(loc='lower right')\n",
        "plt.show(fig)"
      ],
      "id": "fig-limits",
      "execution_count": null,
      "outputs": []
    },
    {
      "cell_type": "markdown",
      "metadata": {},
      "source": [
        "## Plotly\n"
      ],
      "id": "51a1a332"
    },
    {
      "cell_type": "code",
      "metadata": {},
      "source": [
        "#| label: fig-gapminder\n",
        "#| fig-cap: Life Expectancy and GDP\n",
        "#| fig-subcap:\n",
        "#|   - 'Gapminder: 1957'\n",
        "#|   - 'Gapminder: 2007'\n",
        "#| layout-ncol: 2\n",
        "\"\"\"\n",
        "This allows our figure display to span out beyond the normal body text column.\n",
        "#| column: page\n",
        "\"\"\"\n",
        "\n",
        "import plotly.express as px\n",
        "import plotly.io as pio\n",
        "gapminder = px.data.gapminder()\n",
        "def gapminder_plot(year):\n",
        "    gapminderYear = gapminder.query(\"year == \" + \n",
        "                                    str(year))\n",
        "    fig = px.scatter(gapminderYear, \n",
        "                     x=\"gdpPercap\", y=\"lifeExp\",\n",
        "                     size=\"pop\", size_max=60,\n",
        "                     hover_name=\"country\")\n",
        "    fig.show()\n",
        "    \n",
        "gapminder_plot(1957)\n",
        "gapminder_plot(2007)"
      ],
      "id": "fig-gapminder",
      "execution_count": null,
      "outputs": []
    }
  ],
  "metadata": {
    "kernelspec": {
      "display_name": "Python 3",
      "language": "python",
      "name": "python3"
    }
  },
  "nbformat": 4,
  "nbformat_minor": 5
}